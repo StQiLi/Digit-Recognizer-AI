{
 "cells": [
  {
   "cell_type": "markdown",
   "metadata": {},
   "source": [
    "Model: \n",
    "- Sequential Model, Convolutional Neural Network \n",
    "- "
   ]
  },
  {
   "cell_type": "code",
   "execution_count": 2,
   "metadata": {},
   "outputs": [],
   "source": [
    "import numpy as np\n",
    "import pandas as pd\n",
    "import matplotlib.pyplot as plt\n",
    "import tensorflow as tf # machine learning part\n",
    "import keras\n",
    "from keras import layers\n",
    "from keras import ops"
   ]
  },
  {
   "cell_type": "code",
   "execution_count": 3,
   "metadata": {},
   "outputs": [],
   "source": [
    "training_data = pd.read_csv('./TestData/train.csv')\n",
    "x_train_dataframe = training_data.iloc[:, training_data.columns != 'label']\n",
    "x_train = x_train_dataframe.values\n",
    "y_train = training_data.label.values\n",
    "\n",
    "testing_data = pd.read_csv('./TestData/test.csv')\n",
    "\n",
    "x_test = testing_data.values\n"
   ]
  },
  {
   "cell_type": "code",
   "execution_count": 5,
   "metadata": {},
   "outputs": [],
   "source": [
    "x_train = tf.keras.utils.normalize(x_train)\n",
    "x_test = tf.keras.utils.normalize(x_test)"
   ]
  },
  {
   "cell_type": "markdown",
   "metadata": {},
   "source": [
    "Convolutional Layers: \n",
    "- Each convolutional layer passes on a \"filter\" which is a nxn matrix\n",
    "- The filter slides along the grid of pixel values, and the layer passes a new image with the product of the filter and each corresponding sliding window\n",
    "\n",
    "Pooling Layers: \n",
    "- Similar sliding window idea as convolution, with the \"stride\" equal to the number of pixels that the filter passes along\n",
    "- Computes an operation on each valid position, and computes a single value as output, usually max or average\n",
    "- Reduces the size of an intermediate features\n",
    "\n",
    "Dense Layers: \n"
   ]
  },
  {
   "cell_type": "code",
   "execution_count": 34,
   "metadata": {},
   "outputs": [],
   "source": [
    "model = tf.keras.models.Sequential()\n",
    "model.add(keras.Input(shape=(28, 28, 1)))\n",
    "\n",
    "#CNN 128 filter that produces the same size image\n",
    "# Pooling layer by factor of 2\n",
    "\n",
    "model.add(layers.Conv2D(128, 2, padding=\"same\", activation=\"relu\"))\n",
    "model.add(layers.MaxPool2D(pool_size=(2, 2)))\n",
    "\n",
    "model.add(layers.Conv2D(64, 2, padding=\"same\", activation=\"relu\"))\n",
    "model.add(layers.MaxPool2D(pool_size=(2, 2)))\n",
    "\n",
    "model.add(layers.Conv2D(32, 2, padding=\"same\", activation=\"relu\"))\n",
    "model.add(layers.MaxPool2D(pool_size=(2, 2)))\n",
    "\n",
    "#\n",
    "model.add(layers.Flatten())\n",
    "model.add(layers.Dense(128, activation=\"relu\"))\n",
    "model.add(layers.Dense(128, activation=\"relu\"))\n",
    "model.add(layers.Dense(128, activation=\"relu\"))\n",
    "model.add(layers.Dense(128, activation=\"relu\"))\n",
    "\n",
    "\n",
    "\n",
    "model.add(layers.Dense(10, activation=\"softmax\"))"
   ]
  },
  {
   "cell_type": "code",
   "execution_count": 36,
   "metadata": {},
   "outputs": [
    {
     "name": "stdout",
     "output_type": "stream",
     "text": [
      "Epoch 1/30\n",
      "\u001b[1m1050/1050\u001b[0m \u001b[32m━━━━━━━━━━━━━━━━━━━━\u001b[0m\u001b[37m\u001b[0m \u001b[1m16s\u001b[0m 15ms/step - accuracy: 0.9917 - loss: 0.0279 - val_accuracy: 0.9820 - val_loss: 0.0784\n",
      "Epoch 2/30\n",
      "\u001b[1m1050/1050\u001b[0m \u001b[32m━━━━━━━━━━━━━━━━━━━━\u001b[0m\u001b[37m\u001b[0m \u001b[1m15s\u001b[0m 15ms/step - accuracy: 0.9922 - loss: 0.0245 - val_accuracy: 0.9849 - val_loss: 0.0666\n",
      "Epoch 3/30\n",
      "\u001b[1m1050/1050\u001b[0m \u001b[32m━━━━━━━━━━━━━━━━━━━━\u001b[0m\u001b[37m\u001b[0m \u001b[1m16s\u001b[0m 15ms/step - accuracy: 0.9938 - loss: 0.0218 - val_accuracy: 0.9839 - val_loss: 0.0643\n",
      "Epoch 4/30\n",
      "\u001b[1m1050/1050\u001b[0m \u001b[32m━━━━━━━━━━━━━━━━━━━━\u001b[0m\u001b[37m\u001b[0m \u001b[1m17s\u001b[0m 16ms/step - accuracy: 0.9932 - loss: 0.0202 - val_accuracy: 0.9820 - val_loss: 0.0762\n",
      "Epoch 5/30\n",
      "\u001b[1m1050/1050\u001b[0m \u001b[32m━━━━━━━━━━━━━━━━━━━━\u001b[0m\u001b[37m\u001b[0m \u001b[1m18s\u001b[0m 17ms/step - accuracy: 0.9946 - loss: 0.0185 - val_accuracy: 0.9861 - val_loss: 0.0605\n",
      "Epoch 6/30\n",
      "\u001b[1m1050/1050\u001b[0m \u001b[32m━━━━━━━━━━━━━━━━━━━━\u001b[0m\u001b[37m\u001b[0m \u001b[1m18s\u001b[0m 18ms/step - accuracy: 0.9950 - loss: 0.0172 - val_accuracy: 0.9867 - val_loss: 0.0668\n",
      "Epoch 7/30\n",
      "\u001b[1m1050/1050\u001b[0m \u001b[32m━━━━━━━━━━━━━━━━━━━━\u001b[0m\u001b[37m\u001b[0m \u001b[1m18s\u001b[0m 18ms/step - accuracy: 0.9955 - loss: 0.0139 - val_accuracy: 0.9845 - val_loss: 0.0812\n",
      "Epoch 8/30\n",
      "\u001b[1m1050/1050\u001b[0m \u001b[32m━━━━━━━━━━━━━━━━━━━━\u001b[0m\u001b[37m\u001b[0m \u001b[1m18s\u001b[0m 17ms/step - accuracy: 0.9940 - loss: 0.0202 - val_accuracy: 0.9875 - val_loss: 0.0609\n",
      "Epoch 9/30\n",
      "\u001b[1m1050/1050\u001b[0m \u001b[32m━━━━━━━━━━━━━━━━━━━━\u001b[0m\u001b[37m\u001b[0m \u001b[1m18s\u001b[0m 17ms/step - accuracy: 0.9957 - loss: 0.0138 - val_accuracy: 0.9862 - val_loss: 0.0598\n",
      "Epoch 10/30\n",
      "\u001b[1m1050/1050\u001b[0m \u001b[32m━━━━━━━━━━━━━━━━━━━━\u001b[0m\u001b[37m\u001b[0m \u001b[1m19s\u001b[0m 18ms/step - accuracy: 0.9963 - loss: 0.0128 - val_accuracy: 0.9861 - val_loss: 0.0725\n",
      "Epoch 11/30\n",
      "\u001b[1m1050/1050\u001b[0m \u001b[32m━━━━━━━━━━━━━━━━━━━━\u001b[0m\u001b[37m\u001b[0m \u001b[1m18s\u001b[0m 17ms/step - accuracy: 0.9969 - loss: 0.0100 - val_accuracy: 0.9840 - val_loss: 0.0845\n",
      "Epoch 12/30\n",
      "\u001b[1m1050/1050\u001b[0m \u001b[32m━━━━━━━━━━━━━━━━━━━━\u001b[0m\u001b[37m\u001b[0m \u001b[1m18s\u001b[0m 17ms/step - accuracy: 0.9967 - loss: 0.0108 - val_accuracy: 0.9830 - val_loss: 0.1066\n",
      "Epoch 13/30\n",
      "\u001b[1m1050/1050\u001b[0m \u001b[32m━━━━━━━━━━━━━━━━━━━━\u001b[0m\u001b[37m\u001b[0m \u001b[1m18s\u001b[0m 17ms/step - accuracy: 0.9954 - loss: 0.0155 - val_accuracy: 0.9844 - val_loss: 0.0866\n",
      "Epoch 14/30\n",
      "\u001b[1m1050/1050\u001b[0m \u001b[32m━━━━━━━━━━━━━━━━━━━━\u001b[0m\u001b[37m\u001b[0m \u001b[1m18s\u001b[0m 17ms/step - accuracy: 0.9967 - loss: 0.0106 - val_accuracy: 0.9870 - val_loss: 0.0684\n",
      "Epoch 15/30\n",
      "\u001b[1m1050/1050\u001b[0m \u001b[32m━━━━━━━━━━━━━━━━━━━━\u001b[0m\u001b[37m\u001b[0m \u001b[1m18s\u001b[0m 17ms/step - accuracy: 0.9961 - loss: 0.0120 - val_accuracy: 0.9831 - val_loss: 0.1032\n",
      "Epoch 16/30\n",
      "\u001b[1m1050/1050\u001b[0m \u001b[32m━━━━━━━━━━━━━━━━━━━━\u001b[0m\u001b[37m\u001b[0m \u001b[1m18s\u001b[0m 17ms/step - accuracy: 0.9965 - loss: 0.0118 - val_accuracy: 0.9876 - val_loss: 0.0721\n",
      "Epoch 17/30\n",
      "\u001b[1m1050/1050\u001b[0m \u001b[32m━━━━━━━━━━━━━━━━━━━━\u001b[0m\u001b[37m\u001b[0m \u001b[1m18s\u001b[0m 17ms/step - accuracy: 0.9973 - loss: 0.0092 - val_accuracy: 0.9879 - val_loss: 0.0598\n",
      "Epoch 18/30\n",
      "\u001b[1m1050/1050\u001b[0m \u001b[32m━━━━━━━━━━━━━━━━━━━━\u001b[0m\u001b[37m\u001b[0m \u001b[1m18s\u001b[0m 17ms/step - accuracy: 0.9972 - loss: 0.0080 - val_accuracy: 0.9883 - val_loss: 0.0607\n",
      "Epoch 19/30\n",
      "\u001b[1m1050/1050\u001b[0m \u001b[32m━━━━━━━━━━━━━━━━━━━━\u001b[0m\u001b[37m\u001b[0m \u001b[1m18s\u001b[0m 17ms/step - accuracy: 0.9975 - loss: 0.0091 - val_accuracy: 0.9849 - val_loss: 0.1031\n",
      "Epoch 20/30\n",
      "\u001b[1m1050/1050\u001b[0m \u001b[32m━━━━━━━━━━━━━━━━━━━━\u001b[0m\u001b[37m\u001b[0m \u001b[1m18s\u001b[0m 17ms/step - accuracy: 0.9972 - loss: 0.0102 - val_accuracy: 0.9780 - val_loss: 0.1244\n",
      "Epoch 21/30\n",
      "\u001b[1m1050/1050\u001b[0m \u001b[32m━━━━━━━━━━━━━━━━━━━━\u001b[0m\u001b[37m\u001b[0m \u001b[1m18s\u001b[0m 17ms/step - accuracy: 0.9956 - loss: 0.0174 - val_accuracy: 0.9865 - val_loss: 0.0853\n",
      "Epoch 22/30\n",
      "\u001b[1m1050/1050\u001b[0m \u001b[32m━━━━━━━━━━━━━━━━━━━━\u001b[0m\u001b[37m\u001b[0m \u001b[1m18s\u001b[0m 17ms/step - accuracy: 0.9965 - loss: 0.0117 - val_accuracy: 0.9858 - val_loss: 0.0716\n",
      "Epoch 23/30\n",
      "\u001b[1m1050/1050\u001b[0m \u001b[32m━━━━━━━━━━━━━━━━━━━━\u001b[0m\u001b[37m\u001b[0m \u001b[1m18s\u001b[0m 17ms/step - accuracy: 0.9977 - loss: 0.0074 - val_accuracy: 0.9818 - val_loss: 0.1042\n",
      "Epoch 24/30\n",
      "\u001b[1m1050/1050\u001b[0m \u001b[32m━━━━━━━━━━━━━━━━━━━━\u001b[0m\u001b[37m\u001b[0m \u001b[1m18s\u001b[0m 17ms/step - accuracy: 0.9967 - loss: 0.0138 - val_accuracy: 0.9854 - val_loss: 0.0914\n",
      "Epoch 25/30\n",
      "\u001b[1m1050/1050\u001b[0m \u001b[32m━━━━━━━━━━━━━━━━━━━━\u001b[0m\u001b[37m\u001b[0m \u001b[1m18s\u001b[0m 17ms/step - accuracy: 0.9970 - loss: 0.0096 - val_accuracy: 0.9870 - val_loss: 0.0934\n",
      "Epoch 26/30\n",
      "\u001b[1m1050/1050\u001b[0m \u001b[32m━━━━━━━━━━━━━━━━━━━━\u001b[0m\u001b[37m\u001b[0m \u001b[1m18s\u001b[0m 17ms/step - accuracy: 0.9980 - loss: 0.0080 - val_accuracy: 0.9844 - val_loss: 0.0814\n",
      "Epoch 27/30\n",
      "\u001b[1m1050/1050\u001b[0m \u001b[32m━━━━━━━━━━━━━━━━━━━━\u001b[0m\u001b[37m\u001b[0m \u001b[1m18s\u001b[0m 17ms/step - accuracy: 0.9977 - loss: 0.0092 - val_accuracy: 0.9865 - val_loss: 0.0733\n",
      "Epoch 28/30\n",
      "\u001b[1m1050/1050\u001b[0m \u001b[32m━━━━━━━━━━━━━━━━━━━━\u001b[0m\u001b[37m\u001b[0m \u001b[1m18s\u001b[0m 17ms/step - accuracy: 0.9966 - loss: 0.0100 - val_accuracy: 0.9870 - val_loss: 0.0712\n",
      "Epoch 29/30\n",
      "\u001b[1m1050/1050\u001b[0m \u001b[32m━━━━━━━━━━━━━━━━━━━━\u001b[0m\u001b[37m\u001b[0m \u001b[1m17s\u001b[0m 17ms/step - accuracy: 0.9984 - loss: 0.0053 - val_accuracy: 0.9856 - val_loss: 0.1114\n",
      "Epoch 30/30\n",
      "\u001b[1m1050/1050\u001b[0m \u001b[32m━━━━━━━━━━━━━━━━━━━━\u001b[0m\u001b[37m\u001b[0m \u001b[1m18s\u001b[0m 17ms/step - accuracy: 0.9968 - loss: 0.0130 - val_accuracy: 0.9833 - val_loss: 0.1286\n"
     ]
    }
   ],
   "source": [
    "model.compile(optimizer= 'adam', loss='sparse_categorical_crossentropy', metrics=['accuracy'])\n",
    "\n",
    "x_train = x_train.reshape(-1, 28, 28)\n",
    "\n",
    "model.fit(x_train, y_train, shuffle=True, validation_split=0.2, validation_data=None, epochs=30)\n",
    "\n",
    "model.save('CNN.model.keras')\n",
    "\n",
    "saved_model = tf.keras.models.load_model('CNN.model.keras')"
   ]
  },
  {
   "cell_type": "code",
   "execution_count": 32,
   "metadata": {},
   "outputs": [
    {
     "name": "stdout",
     "output_type": "stream",
     "text": [
      "\u001b[1m875/875\u001b[0m \u001b[32m━━━━━━━━━━━━━━━━━━━━\u001b[0m\u001b[37m\u001b[0m \u001b[1m2s\u001b[0m 2ms/step\n"
     ]
    }
   ],
   "source": [
    "x_test = x_test.reshape(-1, 28, 28)\n",
    "predictions = saved_model.predict(x_test)\n",
    "predicted_labels = predictions.argmax(axis=1)"
   ]
  },
  {
   "cell_type": "code",
   "execution_count": 33,
   "metadata": {},
   "outputs": [],
   "source": [
    "results = pd.DataFrame({\n",
    "    'ImageId': range(1, len(predicted_labels) + 1), \n",
    "    'Label': predicted_labels\n",
    "})\n",
    "\n",
    "results.to_csv('CNN_predictions.csv', index=False)"
   ]
  }
 ],
 "metadata": {
  "kernelspec": {
   "display_name": "Python 3",
   "language": "python",
   "name": "python3"
  },
  "language_info": {
   "codemirror_mode": {
    "name": "ipython",
    "version": 3
   },
   "file_extension": ".py",
   "mimetype": "text/x-python",
   "name": "python",
   "nbconvert_exporter": "python",
   "pygments_lexer": "ipython3",
   "version": "3.11.5"
  }
 },
 "nbformat": 4,
 "nbformat_minor": 2
}
