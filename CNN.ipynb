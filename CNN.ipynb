{
 "cells": [
  {
   "cell_type": "markdown",
   "metadata": {},
   "source": [
    "Model Performance: \n",
    "98.9%~ test data set accuracy, 99.11% val_accuracy\n",
    "\n",
    "\n",
    "Model: \n",
    "- Convolutional Neural Network (Sequential, 11 layers)\n",
    "- Inputs 28x28 array,\n",
    "- 2 Convolutional layers with 64 then 32 filters\n",
    "- 2 Pooling layers\n",
    "- 2 Dropout Layers\n",
    "- 3 Dense Layers\n",
    "- 1 Output Layer(more details below)"
   ]
  },
  {
   "cell_type": "code",
   "execution_count": 68,
   "metadata": {},
   "outputs": [
    {
     "ename": "ModuleNotFoundError",
     "evalue": "No module named 'tf'",
     "output_type": "error",
     "traceback": [
      "\u001b[0;31m---------------------------------------------------------------------------\u001b[0m",
      "\u001b[0;31mModuleNotFoundError\u001b[0m                       Traceback (most recent call last)",
      "Cell \u001b[0;32mIn[68], line 8\u001b[0m\n\u001b[1;32m      6\u001b[0m \u001b[38;5;28;01mfrom\u001b[39;00m \u001b[38;5;21;01mkeras\u001b[39;00m \u001b[38;5;28;01mimport\u001b[39;00m layers\n\u001b[1;32m      7\u001b[0m \u001b[38;5;28;01mfrom\u001b[39;00m \u001b[38;5;21;01mkeras\u001b[39;00m \u001b[38;5;28;01mimport\u001b[39;00m ops\n\u001b[0;32m----> 8\u001b[0m \u001b[38;5;28;01mfrom\u001b[39;00m \u001b[38;5;21;01mtf\u001b[39;00m\u001b[38;5;21;01m.\u001b[39;00m\u001b[38;5;21;01mkeras\u001b[39;00m\u001b[38;5;21;01m.\u001b[39;00m\u001b[38;5;21;01moptimizers\u001b[39;00m \u001b[38;5;28;01mimport\u001b[39;00m Adam\n\u001b[1;32m      9\u001b[0m \u001b[38;5;28;01mfrom\u001b[39;00m \u001b[38;5;21;01mtf\u001b[39;00m\u001b[38;5;21;01m.\u001b[39;00m\u001b[38;5;21;01mkeras\u001b[39;00m\u001b[38;5;21;01m.\u001b[39;00m\u001b[38;5;21;01mcallbacks\u001b[39;00m \u001b[38;5;28;01mimport\u001b[39;00m EarlyStopping\n",
      "\u001b[0;31mModuleNotFoundError\u001b[0m: No module named 'tf'"
     ]
    }
   ],
   "source": [
    "import numpy as np\n",
    "import pandas as pd\n",
    "import matplotlib.pyplot as plt\n",
    "import tensorflow as tf # machine learning part\n",
    "import keras\n",
    "from keras import layers\n",
    "from keras import ops\n",
    "from tensorflow.keras.optimizers import Adam\n",
    "from tensorflow.keras.callbacks import EarlyStopping\n",
    "\n"
   ]
  },
  {
   "cell_type": "code",
   "execution_count": 40,
   "metadata": {},
   "outputs": [],
   "source": [
    "training_data = pd.read_csv('./TestData/train.csv')\n",
    "x_train_dataframe = training_data.iloc[:, training_data.columns != 'label']\n",
    "x_train = x_train_dataframe.values\n",
    "y_train = training_data.label.values\n",
    "\n",
    "testing_data = pd.read_csv('./TestData/test.csv')\n",
    "\n",
    "x_test = testing_data.values\n"
   ]
  },
  {
   "cell_type": "code",
   "execution_count": 5,
   "metadata": {},
   "outputs": [],
   "source": [
    "x_train = tf.keras.utils.normalize(x_train)\n",
    "x_test = tf.keras.utils.normalize(x_test)"
   ]
  },
  {
   "cell_type": "markdown",
   "metadata": {},
   "source": [
    "Convolutional Layers: \n",
    "- Each convolutional layer passes on a \"filter\" which is a nxn matrix\n",
    "- The filter slides along the grid of pixel values, and the layer passes a new image with the product of the filter and each corresponding sliding window\n",
    "\n",
    "Pooling Layers: \n",
    "- Similar sliding window idea as convolution, with the \"stride\" equal to the number of pixels that the filter passes along\n",
    "- Computes an operation on each valid position, and computes a single value as output, usually max or average\n",
    "- Reduces the size of an intermediate features\n",
    "\n",
    "Dropout Layers:\n",
    "- A layer to prevent overfitting, randomly deactivates a fraction of input units to 0, set to 20%\n",
    "- Ensure the network doesn't rely on just one neuron\n",
    "\n",
    "Dense Layers: \n",
    "- Information from all neurons in the previous layer are used to determine the output of each neuron in the next\n"
   ]
  },
  {
   "cell_type": "code",
   "execution_count": 52,
   "metadata": {},
   "outputs": [],
   "source": [
    "model = tf.keras.models.Sequential()\n",
    "model.add(keras.Input(shape=(28, 28, 1)))\n",
    "\n",
    "#CNN 128 filter that produces the same size image\n",
    "# Pooling layer by factor of 2\n",
    "\n",
    "model.add(layers.Conv2D(64, 3, padding=\"same\", activation=\"relu\"))\n",
    "model.add(layers.MaxPool2D(pool_size=(2, 2)))\n",
    "model.add(layers.Dropout(0.2))\n",
    "\n",
    "model.add(layers.Conv2D(32, 2, padding=\"same\", activation=\"relu\"))\n",
    "model.add(layers.MaxPool2D(pool_size=(2, 2)))\n",
    "model.add(layers.Dropout(0.2))\n",
    "#\n",
    "model.add(layers.Flatten())\n",
    "\n",
    "model.add(layers.Dense(128, activation=\"relu\"))\n",
    "model.add(layers.Dense(128, activation=\"relu\"))\n",
    "model.add(layers.Dense(128, activation=\"relu\"))\n",
    "\n",
    "\n",
    "\n",
    "model.add(layers.Dense(10, activation=\"softmax\"))"
   ]
  },
  {
   "cell_type": "code",
   "execution_count": 63,
   "metadata": {},
   "outputs": [
    {
     "name": "stdout",
     "output_type": "stream",
     "text": [
      "Epoch 1/20\n",
      "\u001b[1m1050/1050\u001b[0m \u001b[32m━━━━━━━━━━━━━━━━━━━━\u001b[0m\u001b[37m\u001b[0m \u001b[1m9s\u001b[0m 8ms/step - accuracy: 0.9963 - loss: 0.0189 - val_accuracy: 0.9886 - val_loss: 0.1325\n",
      "Epoch 2/20\n",
      "\u001b[1m1050/1050\u001b[0m \u001b[32m━━━━━━━━━━━━━━━━━━━━\u001b[0m\u001b[37m\u001b[0m \u001b[1m9s\u001b[0m 8ms/step - accuracy: 0.9955 - loss: 0.0234 - val_accuracy: 0.9890 - val_loss: 0.0963\n",
      "Epoch 3/20\n",
      "\u001b[1m1050/1050\u001b[0m \u001b[32m━━━━━━━━━━━━━━━━━━━━\u001b[0m\u001b[37m\u001b[0m \u001b[1m9s\u001b[0m 8ms/step - accuracy: 0.9960 - loss: 0.0173 - val_accuracy: 0.9875 - val_loss: 0.1180\n",
      "Epoch 4/20\n",
      "\u001b[1m1050/1050\u001b[0m \u001b[32m━━━━━━━━━━━━━━━━━━━━\u001b[0m\u001b[37m\u001b[0m \u001b[1m9s\u001b[0m 8ms/step - accuracy: 0.9957 - loss: 0.0233 - val_accuracy: 0.9900 - val_loss: 0.0874\n",
      "Epoch 5/20\n",
      "\u001b[1m1050/1050\u001b[0m \u001b[32m━━━━━━━━━━━━━━━━━━━━\u001b[0m\u001b[37m\u001b[0m \u001b[1m9s\u001b[0m 8ms/step - accuracy: 0.9965 - loss: 0.0210 - val_accuracy: 0.9865 - val_loss: 0.0872\n",
      "Epoch 6/20\n",
      "\u001b[1m1050/1050\u001b[0m \u001b[32m━━━━━━━━━━━━━━━━━━━━\u001b[0m\u001b[37m\u001b[0m \u001b[1m9s\u001b[0m 8ms/step - accuracy: 0.9958 - loss: 0.0159 - val_accuracy: 0.9911 - val_loss: 0.0766\n",
      "Epoch 7/20\n",
      "\u001b[1m1050/1050\u001b[0m \u001b[32m━━━━━━━━━━━━━━━━━━━━\u001b[0m\u001b[37m\u001b[0m \u001b[1m9s\u001b[0m 8ms/step - accuracy: 0.9964 - loss: 0.0168 - val_accuracy: 0.9885 - val_loss: 0.0810\n",
      "Epoch 8/20\n",
      "\u001b[1m1050/1050\u001b[0m \u001b[32m━━━━━━━━━━━━━━━━━━━━\u001b[0m\u001b[37m\u001b[0m \u001b[1m9s\u001b[0m 8ms/step - accuracy: 0.9963 - loss: 0.0145 - val_accuracy: 0.9892 - val_loss: 0.0931\n",
      "Epoch 9/20\n",
      "\u001b[1m1050/1050\u001b[0m \u001b[32m━━━━━━━━━━━━━━━━━━━━\u001b[0m\u001b[37m\u001b[0m \u001b[1m9s\u001b[0m 8ms/step - accuracy: 0.9971 - loss: 0.0115 - val_accuracy: 0.9900 - val_loss: 0.0922\n",
      "Epoch 10/20\n",
      "\u001b[1m1050/1050\u001b[0m \u001b[32m━━━━━━━━━━━━━━━━━━━━\u001b[0m\u001b[37m\u001b[0m \u001b[1m9s\u001b[0m 8ms/step - accuracy: 0.9967 - loss: 0.0152 - val_accuracy: 0.9881 - val_loss: 0.1013\n",
      "Epoch 11/20\n",
      "\u001b[1m1050/1050\u001b[0m \u001b[32m━━━━━━━━━━━━━━━━━━━━\u001b[0m\u001b[37m\u001b[0m \u001b[1m9s\u001b[0m 9ms/step - accuracy: 0.9967 - loss: 0.0171 - val_accuracy: 0.9895 - val_loss: 0.1018\n",
      "Epoch 12/20\n",
      "\u001b[1m1050/1050\u001b[0m \u001b[32m━━━━━━━━━━━━━━━━━━━━\u001b[0m\u001b[37m\u001b[0m \u001b[1m9s\u001b[0m 8ms/step - accuracy: 0.9965 - loss: 0.0165 - val_accuracy: 0.9867 - val_loss: 0.0875\n",
      "Epoch 13/20\n",
      "\u001b[1m1050/1050\u001b[0m \u001b[32m━━━━━━━━━━━━━━━━━━━━\u001b[0m\u001b[37m\u001b[0m \u001b[1m9s\u001b[0m 8ms/step - accuracy: 0.9970 - loss: 0.0148 - val_accuracy: 0.9902 - val_loss: 0.0767\n",
      "Epoch 14/20\n",
      "\u001b[1m1050/1050\u001b[0m \u001b[32m━━━━━━━━━━━━━━━━━━━━\u001b[0m\u001b[37m\u001b[0m \u001b[1m9s\u001b[0m 9ms/step - accuracy: 0.9960 - loss: 0.0187 - val_accuracy: 0.9894 - val_loss: 0.0890\n",
      "Epoch 15/20\n",
      "\u001b[1m1050/1050\u001b[0m \u001b[32m━━━━━━━━━━━━━━━━━━━━\u001b[0m\u001b[37m\u001b[0m \u001b[1m9s\u001b[0m 8ms/step - accuracy: 0.9954 - loss: 0.0201 - val_accuracy: 0.9888 - val_loss: 0.0884\n",
      "Epoch 16/20\n",
      "\u001b[1m1050/1050\u001b[0m \u001b[32m━━━━━━━━━━━━━━━━━━━━\u001b[0m\u001b[37m\u001b[0m \u001b[1m9s\u001b[0m 8ms/step - accuracy: 0.9972 - loss: 0.0117 - val_accuracy: 0.9883 - val_loss: 0.0944\n",
      "Epoch 17/20\n",
      "\u001b[1m1050/1050\u001b[0m \u001b[32m━━━━━━━━━━━━━━━━━━━━\u001b[0m\u001b[37m\u001b[0m \u001b[1m9s\u001b[0m 8ms/step - accuracy: 0.9959 - loss: 0.0158 - val_accuracy: 0.9904 - val_loss: 0.1011\n",
      "Epoch 18/20\n",
      "\u001b[1m1050/1050\u001b[0m \u001b[32m━━━━━━━━━━━━━━━━━━━━\u001b[0m\u001b[37m\u001b[0m \u001b[1m9s\u001b[0m 9ms/step - accuracy: 0.9969 - loss: 0.0128 - val_accuracy: 0.9890 - val_loss: 0.1106\n",
      "Epoch 19/20\n",
      "\u001b[1m1050/1050\u001b[0m \u001b[32m━━━━━━━━━━━━━━━━━━━━\u001b[0m\u001b[37m\u001b[0m \u001b[1m9s\u001b[0m 8ms/step - accuracy: 0.9964 - loss: 0.0175 - val_accuracy: 0.9894 - val_loss: 0.0899\n",
      "Epoch 20/20\n",
      "\u001b[1m1050/1050\u001b[0m \u001b[32m━━━━━━━━━━━━━━━━━━━━\u001b[0m\u001b[37m\u001b[0m \u001b[1m9s\u001b[0m 9ms/step - accuracy: 0.9971 - loss: 0.0120 - val_accuracy: 0.9911 - val_loss: 0.0729\n",
      "Restoring model weights from the end of the best epoch: 6.\n"
     ]
    }
   ],
   "source": [
    "optimizer = Adam(learning_rate=0.0008, beta_1=0.9, beta_2=0.999, epsilon=1e-07, amsgrad=False)\n",
    "\n",
    "model.compile(optimizer= optimizer, loss='sparse_categorical_crossentropy', metrics=['accuracy'])\n",
    "\n",
    "early_stopping = EarlyStopping(monitor='val_accuracy', patience=20, verbose=1, restore_best_weights=True)\n",
    "\n",
    "x_train = x_train.reshape(-1, 28, 28)\n",
    "\n",
    "model.fit(x_train, y_train, shuffle=True, validation_split=0.2, validation_data=None, epochs=20, callbacks=[early_stopping])\n",
    "\n",
    "model.save('CNN.model.keras')\n",
    "\n",
    "saved_model = tf.keras.models.load_model('CNN.model.keras')"
   ]
  },
  {
   "cell_type": "code",
   "execution_count": 66,
   "metadata": {},
   "outputs": [
    {
     "name": "stdout",
     "output_type": "stream",
     "text": [
      "\u001b[1m875/875\u001b[0m \u001b[32m━━━━━━━━━━━━━━━━━━━━\u001b[0m\u001b[37m\u001b[0m \u001b[1m2s\u001b[0m 2ms/step\n"
     ]
    }
   ],
   "source": [
    "x_test = x_test.reshape(-1, 28, 28)\n",
    "predictions = saved_model.predict(x_test)\n",
    "predicted_labels = predictions.argmax(axis=1)"
   ]
  },
  {
   "cell_type": "code",
   "execution_count": 67,
   "metadata": {},
   "outputs": [],
   "source": [
    "results = pd.DataFrame({\n",
    "    'ImageId': range(1, len(predicted_labels) + 1), \n",
    "    'Label': predicted_labels\n",
    "})\n",
    "\n",
    "results.to_csv('CNN_predictions.csv', index=False)"
   ]
  }
 ],
 "metadata": {
  "kernelspec": {
   "display_name": "Python 3",
   "language": "python",
   "name": "python3"
  },
  "language_info": {
   "codemirror_mode": {
    "name": "ipython",
    "version": 3
   },
   "file_extension": ".py",
   "mimetype": "text/x-python",
   "name": "python",
   "nbconvert_exporter": "python",
   "pygments_lexer": "ipython3",
   "version": "3.11.5"
  }
 },
 "nbformat": 4,
 "nbformat_minor": 2
}
